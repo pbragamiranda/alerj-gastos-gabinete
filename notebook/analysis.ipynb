{
 "cells": [
  {
   "cell_type": "code",
   "execution_count": 54,
   "id": "bronze-diana",
   "metadata": {},
   "outputs": [],
   "source": [
    "import pandas as pd\n",
    "pd.options.display.max_rows = 4000\n",
    "pd.options.display.max_columns = 4000"
   ]
  },
  {
   "cell_type": "code",
   "execution_count": 27,
   "id": "integrated-parker",
   "metadata": {},
   "outputs": [],
   "source": [
    "working_folder = '/home/blackmamba/code/pbragamiranda/alerj-gastos-gabinete/data/csv_data/'"
   ]
  },
  {
   "cell_type": "code",
   "execution_count": 48,
   "id": "animated-petersburg",
   "metadata": {},
   "outputs": [],
   "source": [
    "recipients = pd.read_csv(working_folder + 'recipients.csv')"
   ]
  },
  {
   "cell_type": "code",
   "execution_count": 49,
   "id": "flush-knowing",
   "metadata": {},
   "outputs": [
    {
     "name": "stdout",
     "output_type": "stream",
     "text": [
      "<class 'pandas.core.frame.DataFrame'>\n",
      "RangeIndex: 8975 entries, 0 to 8974\n",
      "Data columns (total 10 columns):\n",
      " #   Column             Non-Null Count  Dtype  \n",
      "---  ------             --------------  -----  \n",
      " 0   id                 8975 non-null   int64  \n",
      " 1   date               8975 non-null   object \n",
      " 2   value              8975 non-null   float64\n",
      " 3   object             8975 non-null   object \n",
      " 4   to                 8975 non-null   object \n",
      " 5   cost_center_name   8975 non-null   object \n",
      " 6   provider_name      8975 non-null   object \n",
      " 7   provider_cpf_cnpj  8975 non-null   object \n",
      " 8   provider_type      8975 non-null   object \n",
      " 9   entry_type_name    8975 non-null   object \n",
      "dtypes: float64(1), int64(1), object(8)\n",
      "memory usage: 701.3+ KB\n"
     ]
    }
   ],
   "source": [
    "recipients.info()"
   ]
  },
  {
   "cell_type": "code",
   "execution_count": 50,
   "id": "human-variable",
   "metadata": {},
   "outputs": [],
   "source": [
    "recipients['date'] = recipients['date'].astype('datetime64[ns]')\n",
    "recipients['value'] = recipients['value'] * -1"
   ]
  },
  {
   "cell_type": "code",
   "execution_count": 51,
   "id": "junior-india",
   "metadata": {},
   "outputs": [
    {
     "data": {
      "text/html": [
       "<div>\n",
       "<style scoped>\n",
       "    .dataframe tbody tr th:only-of-type {\n",
       "        vertical-align: middle;\n",
       "    }\n",
       "\n",
       "    .dataframe tbody tr th {\n",
       "        vertical-align: top;\n",
       "    }\n",
       "\n",
       "    .dataframe thead th {\n",
       "        text-align: right;\n",
       "    }\n",
       "</style>\n",
       "<table border=\"1\" class=\"dataframe\">\n",
       "  <thead>\n",
       "    <tr style=\"text-align: right;\">\n",
       "      <th></th>\n",
       "      <th>id</th>\n",
       "      <th>date</th>\n",
       "      <th>value</th>\n",
       "      <th>object</th>\n",
       "      <th>to</th>\n",
       "      <th>cost_center_name</th>\n",
       "      <th>provider_name</th>\n",
       "      <th>provider_cpf_cnpj</th>\n",
       "      <th>provider_type</th>\n",
       "      <th>entry_type_name</th>\n",
       "    </tr>\n",
       "  </thead>\n",
       "  <tbody>\n",
       "    <tr>\n",
       "      <th>0</th>\n",
       "      <td>4887</td>\n",
       "      <td>2019-11-30</td>\n",
       "      <td>2500.0</td>\n",
       "      <td>GABINETE AVANÇADO EM MACAÉ</td>\n",
       "      <td>POSTO DE GASOLINA ALESSANDRA LTDA</td>\n",
       "      <td>Locação de imóveis</td>\n",
       "      <td>CALIL DE MIRANDA CELEM</td>\n",
       "      <td>104.309.627-20</td>\n",
       "      <td>CPF</td>\n",
       "      <td>Cheque</td>\n",
       "    </tr>\n",
       "    <tr>\n",
       "      <th>1</th>\n",
       "      <td>4890</td>\n",
       "      <td>2019-11-30</td>\n",
       "      <td>215.0</td>\n",
       "      <td>INTERNET</td>\n",
       "      <td>CLARO S/A</td>\n",
       "      <td>Acesso à internet</td>\n",
       "      <td>CLARO S/A</td>\n",
       "      <td>40.432.544/0062-69</td>\n",
       "      <td>CNPJ</td>\n",
       "      <td>Débito em conta</td>\n",
       "    </tr>\n",
       "    <tr>\n",
       "      <th>2</th>\n",
       "      <td>4892</td>\n",
       "      <td>2019-11-30</td>\n",
       "      <td>6500.0</td>\n",
       "      <td>DIVULGAÇÃO DE ATIVIDADES PARLAMENTAR COMUNICAÇÃO</td>\n",
       "      <td>TATIANE FREIRE MARQUES MEI</td>\n",
       "      <td>Divulgação de sua atividade parlamentar, respe...</td>\n",
       "      <td>TATIANE FREIRE MARQUES MEI</td>\n",
       "      <td>34.369.407/0001-02</td>\n",
       "      <td>CNPJ</td>\n",
       "      <td>Transferência</td>\n",
       "    </tr>\n",
       "  </tbody>\n",
       "</table>\n",
       "</div>"
      ],
      "text/plain": [
       "     id       date   value                                            object  \\\n",
       "0  4887 2019-11-30  2500.0                        GABINETE AVANÇADO EM MACAÉ   \n",
       "1  4890 2019-11-30   215.0                                          INTERNET   \n",
       "2  4892 2019-11-30  6500.0  DIVULGAÇÃO DE ATIVIDADES PARLAMENTAR COMUNICAÇÃO   \n",
       "\n",
       "                                  to  \\\n",
       "0  POSTO DE GASOLINA ALESSANDRA LTDA   \n",
       "1                          CLARO S/A   \n",
       "2         TATIANE FREIRE MARQUES MEI   \n",
       "\n",
       "                                    cost_center_name  \\\n",
       "0                                 Locação de imóveis   \n",
       "1                                  Acesso à internet   \n",
       "2  Divulgação de sua atividade parlamentar, respe...   \n",
       "\n",
       "                provider_name   provider_cpf_cnpj provider_type  \\\n",
       "0      CALIL DE MIRANDA CELEM      104.309.627-20           CPF   \n",
       "1                   CLARO S/A  40.432.544/0062-69          CNPJ   \n",
       "2  TATIANE FREIRE MARQUES MEI  34.369.407/0001-02          CNPJ   \n",
       "\n",
       "   entry_type_name  \n",
       "0           Cheque  \n",
       "1  Débito em conta  \n",
       "2    Transferência  "
      ]
     },
     "execution_count": 51,
     "metadata": {},
     "output_type": "execute_result"
    }
   ],
   "source": [
    "recipients.head(3)"
   ]
  },
  {
   "cell_type": "code",
   "execution_count": 52,
   "id": "advisory-fault",
   "metadata": {},
   "outputs": [],
   "source": [
    "df_2019 = recipients[(recipients['date']> \"2019-01-01\") & (recipients['date']< \"2019-12-31\")]"
   ]
  },
  {
   "cell_type": "code",
   "execution_count": 57,
   "id": "funky-citation",
   "metadata": {},
   "outputs": [
    {
     "data": {
      "text/plain": [
       "provider_name\n",
       "Assembleia Legislativa do Estado do Rio de Janeiro     5630915.30\n",
       "HORIZONTE LOCADORA DE VEÍCULOS                          936866.57\n",
       "VELOZ TRANSRIO TRANSPORTE LTDA.                         434678.81\n",
       "A3 SERVICOS DE PUBLICIDADE E COMUNICAÇÃO LTDA           221000.00\n",
       "Servcar Soluções Automotivas Ltda                       184416.50\n",
       "FIRE SHOW DO VILAR AUTOMÓVEIS LTDA                      111400.00\n",
       "Villar Guimarães Comércio de Pneus                       87900.00\n",
       "FACEBOOK ADS BR                                          80897.30\n",
       "Luiz Roberto de Oliveira Ferreira                        79040.00\n",
       "JMG REPRESENTAÇÕES , COMÉRCIO E SERVIÇOS Eireli          73800.00\n",
       "ITAU UNIBANCO S.A.                                       66691.90\n",
       "Eva Locação de Veículos EIRELI                           65500.00\n",
       "movida locação de veiculos s.a                           59444.41\n",
       "Rei dos Blindados - Locação de Veículos LTDA             56800.00\n",
       "LJS EMPREENDIMENTOS E PARTICIPAÇÕES EIRELI               52150.00\n",
       "HI TECH VEÍCULOS EIRELLI                                 51000.00\n",
       "TIHELEN LOCADORAS DE VEICULOS LTDA ME                    50747.00\n",
       "RPB TEIXEIRA AGENCIA DE PUBLICIDADE - ME                 49000.00\n",
       "CGMP CENTRO DE GESTAO DE MEIOS DE PAGAMENTO LTDA         48974.80\n",
       "Terminal Garagem Menezes Côrtes S.A                      48793.01\n",
       "NOVA PINHO NR LOCAÇÕES LTDA ME                           48750.00\n",
       "Ticket Solucoes HDFGT S/A                                44338.05\n",
       "MARLUX SERVIÇO E COMÉRCIO EIRELI-EPP                     44000.00\n",
       "ECT -EMPRESA BRASILEIRA DE CORREIOS E TELÉGRAFOS         42912.00\n",
       "LET'S TRAVEL TURISMO EIRELI ME                           39667.22\n",
       "TATIANE FREIRE MARQUES MEI                               39000.00\n",
       "Golden Green Auto Posto LTDA                             36685.15\n",
       "PAPEL CULTURAL EDITORA LTDA ME                           35000.00\n",
       "LOGICA TECNOLOGIA - EIRELI EPP                           33310.00\n",
       "Auto Posto Vilar dos Teles LTDA                          33045.18\n",
       "Roda Viva LTDA                                           32145.99\n",
       "FABIANO DA SILVA HENRIQUES                               31200.00\n",
       "J.G. MANUTENÇÃO CONSERVAÇÃO E LOCAÇÃO EIRELI             30666.66\n",
       "Julio Cesar Ferreira Cunha                               30000.00\n",
       "TB BLINDADOS E LOCAÇÕES EIRELI                           29850.00\n",
       "AUTO POSTO DO TRABALHO S/A                               29711.38\n",
       "POSTO E GARAGEM DOM HELDER CAMARA                        28892.55\n",
       "Paulo Cesar Pinheiro de Andrade                          28000.00\n",
       "POSTO MIRANTE DA TAQUARA LTDA                            27968.33\n",
       "VIVALDO GOMES DE AGUIAR                                  27086.64\n",
       "STATUS CONSTRUÇÕES, PUBLICIDADES E EVENTOS LTDA.-ME      27000.00\n",
       "ALIANÇA CENTER COMÉRCIO DE COMBUSTÍVEL LTDA              26774.99\n",
       "CORREIOS                                                 26306.74\n",
       "POSTO DE GASOLINA LEIROZ LTDA                            26064.38\n",
       "DM2 Consultoria em Comunicação LTDA.                     24060.00\n",
       "MKT MIDIAS DIGITAIS E NOVOS NEGOCIOS EIRELI              21760.00\n",
       "STATUS RIO AUTO SERVIÇOS LTDA                            21531.02\n",
       "M. Monforte Agência de Viagens e Turismo LTDA            21161.72\n",
       "PRISMA TURISMO LTDA                                      20366.08\n",
       "Jucelia Oliveira Freitas                                 20000.00\n",
       "Name: value, dtype: float64"
      ]
     },
     "execution_count": 57,
     "metadata": {},
     "output_type": "execute_result"
    }
   ],
   "source": [
    "df_2019.groupby(['provider_name'])['value'].sum().sort_values(ascending=False).head(50)"
   ]
  },
  {
   "cell_type": "code",
   "execution_count": 63,
   "id": "native-detector",
   "metadata": {},
   "outputs": [
    {
     "data": {
      "text/plain": [
       "cost_center_name\n",
       "Devolução de saldo                                                                                                                                          11873981.57\n",
       "Locação ou fretamento de veículos automotores                                                                                                                7234752.02\n",
       "Divulgação de sua atividade parlamentar, respeitadas as vedações de leis eleitorais                                                                          2363038.69\n",
       "Combustíveis e lubrificantes                                                                                                                                 1828312.53\n",
       "Locação de imóveis                                                                                                                                            968278.93\n",
       "Locação de móveis e equipamentos                                                                                                                              409062.56\n",
       "Passagens aéreas e terrestres                                                                                                                                 310819.22\n",
       "Serviços de táxi, STIP, transportes públicos, pedágio e estacionamento                                                                                        265637.56\n",
       "Serviços e produtos postais previstos nos contratos celebrados pela Assembleia Legislativa, vedadas as aquisições de selos e remessas de cartões postais      200473.09\n",
       "Assessoria de imprensa e comunicação                                                                                                                          183600.00\n",
       "Name: value, dtype: float64"
      ]
     },
     "execution_count": 63,
     "metadata": {},
     "output_type": "execute_result"
    }
   ],
   "source": [
    "recipients.groupby(['cost_center_name'])['value'].sum().sort_values(ascending=False).head(10)"
   ]
  },
  {
   "cell_type": "code",
   "execution_count": 65,
   "id": "sitting-stress",
   "metadata": {},
   "outputs": [
    {
     "data": {
      "text/plain": [
       "date\n",
       "2020    14809123.95\n",
       "2019    11340828.54\n",
       "Name: value, dtype: float64"
      ]
     },
     "execution_count": 65,
     "metadata": {},
     "output_type": "execute_result"
    }
   ],
   "source": [
    "recipients.groupby(recipients['date'].dt.year)['value'].sum().sort_values(ascending=False).head(10)"
   ]
  },
  {
   "cell_type": "code",
   "execution_count": 66,
   "id": "dramatic-germany",
   "metadata": {},
   "outputs": [
    {
     "data": {
      "text/plain": [
       "14809123"
      ]
     },
     "execution_count": 66,
     "metadata": {},
     "output_type": "execute_result"
    }
   ],
   "source": [
    "14_809_123"
   ]
  },
  {
   "cell_type": "code",
   "execution_count": null,
   "id": "based-sequence",
   "metadata": {},
   "outputs": [],
   "source": []
  }
 ],
 "metadata": {
  "kernelspec": {
   "display_name": "Python 3",
   "language": "python",
   "name": "python3"
  },
  "language_info": {
   "codemirror_mode": {
    "name": "ipython",
    "version": 3
   },
   "file_extension": ".py",
   "mimetype": "text/x-python",
   "name": "python",
   "nbconvert_exporter": "python",
   "pygments_lexer": "ipython3",
   "version": "3.8.6"
  }
 },
 "nbformat": 4,
 "nbformat_minor": 5
}
