{
 "cells": [
  {
   "cell_type": "code",
   "execution_count": 1,
   "id": "unable-candidate",
   "metadata": {},
   "outputs": [],
   "source": [
    "import pandas as pd\n",
    "pd.options.display.max_rows = 4000\n",
    "pd.options.display.max_columns = 4000"
   ]
  },
  {
   "cell_type": "code",
   "execution_count": 27,
   "id": "cathedral-victim",
   "metadata": {},
   "outputs": [],
   "source": [
    "working_folder = '/home/blackmamba/code/pbragamiranda/alerj-gastos-gabinete/data/csv_data/'"
   ]
  },
  {
   "cell_type": "code",
   "execution_count": 48,
   "id": "champion-bridges",
   "metadata": {},
   "outputs": [],
   "source": [
    "recipients = pd.read_csv(working_folder + 'recipients.csv')"
   ]
  },
  {
   "cell_type": "code",
   "execution_count": 49,
   "id": "piano-stage",
   "metadata": {},
   "outputs": [
    {
     "name": "stdout",
     "output_type": "stream",
     "text": [
      "<class 'pandas.core.frame.DataFrame'>\n",
      "RangeIndex: 8975 entries, 0 to 8974\n",
      "Data columns (total 10 columns):\n",
      " #   Column             Non-Null Count  Dtype  \n",
      "---  ------             --------------  -----  \n",
      " 0   id                 8975 non-null   int64  \n",
      " 1   date               8975 non-null   object \n",
      " 2   value              8975 non-null   float64\n",
      " 3   object             8975 non-null   object \n",
      " 4   to                 8975 non-null   object \n",
      " 5   cost_center_name   8975 non-null   object \n",
      " 6   provider_name      8975 non-null   object \n",
      " 7   provider_cpf_cnpj  8975 non-null   object \n",
      " 8   provider_type      8975 non-null   object \n",
      " 9   entry_type_name    8975 non-null   object \n",
      "dtypes: float64(1), int64(1), object(8)\n",
      "memory usage: 701.3+ KB\n"
     ]
    }
   ],
   "source": [
    "recipients.info()"
   ]
  },
  {
   "cell_type": "code",
   "execution_count": 50,
   "id": "behind-sculpture",
   "metadata": {},
   "outputs": [],
   "source": [
    "recipients['date'] = recipients['date'].astype('datetime64[ns]')\n",
    "recipients['value'] = recipients['value'] * -1"
   ]
  },
  {
   "cell_type": "code",
   "execution_count": 51,
   "id": "sized-farming",
   "metadata": {},
   "outputs": [
    {
     "data": {
      "text/html": [
       "<div>\n",
       "<style scoped>\n",
       "    .dataframe tbody tr th:only-of-type {\n",
       "        vertical-align: middle;\n",
       "    }\n",
       "\n",
       "    .dataframe tbody tr th {\n",
       "        vertical-align: top;\n",
       "    }\n",
       "\n",
       "    .dataframe thead th {\n",
       "        text-align: right;\n",
       "    }\n",
       "</style>\n",
       "<table border=\"1\" class=\"dataframe\">\n",
       "  <thead>\n",
       "    <tr style=\"text-align: right;\">\n",
       "      <th></th>\n",
       "      <th>id</th>\n",
       "      <th>date</th>\n",
       "      <th>value</th>\n",
       "      <th>object</th>\n",
       "      <th>to</th>\n",
       "      <th>cost_center_name</th>\n",
       "      <th>provider_name</th>\n",
       "      <th>provider_cpf_cnpj</th>\n",
       "      <th>provider_type</th>\n",
       "      <th>entry_type_name</th>\n",
       "    </tr>\n",
       "  </thead>\n",
       "  <tbody>\n",
       "    <tr>\n",
       "      <th>0</th>\n",
       "      <td>4887</td>\n",
       "      <td>2019-11-30</td>\n",
       "      <td>2500.0</td>\n",
       "      <td>GABINETE AVANÇADO EM MACAÉ</td>\n",
       "      <td>POSTO DE GASOLINA ALESSANDRA LTDA</td>\n",
       "      <td>Locação de imóveis</td>\n",
       "      <td>CALIL DE MIRANDA CELEM</td>\n",
       "      <td>104.309.627-20</td>\n",
       "      <td>CPF</td>\n",
       "      <td>Cheque</td>\n",
       "    </tr>\n",
       "    <tr>\n",
       "      <th>1</th>\n",
       "      <td>4890</td>\n",
       "      <td>2019-11-30</td>\n",
       "      <td>215.0</td>\n",
       "      <td>INTERNET</td>\n",
       "      <td>CLARO S/A</td>\n",
       "      <td>Acesso à internet</td>\n",
       "      <td>CLARO S/A</td>\n",
       "      <td>40.432.544/0062-69</td>\n",
       "      <td>CNPJ</td>\n",
       "      <td>Débito em conta</td>\n",
       "    </tr>\n",
       "    <tr>\n",
       "      <th>2</th>\n",
       "      <td>4892</td>\n",
       "      <td>2019-11-30</td>\n",
       "      <td>6500.0</td>\n",
       "      <td>DIVULGAÇÃO DE ATIVIDADES PARLAMENTAR COMUNICAÇÃO</td>\n",
       "      <td>TATIANE FREIRE MARQUES MEI</td>\n",
       "      <td>Divulgação de sua atividade parlamentar, respe...</td>\n",
       "      <td>TATIANE FREIRE MARQUES MEI</td>\n",
       "      <td>34.369.407/0001-02</td>\n",
       "      <td>CNPJ</td>\n",
       "      <td>Transferência</td>\n",
       "    </tr>\n",
       "  </tbody>\n",
       "</table>\n",
       "</div>"
      ],
      "text/plain": [
       "     id       date   value                                            object  \\\n",
       "0  4887 2019-11-30  2500.0                        GABINETE AVANÇADO EM MACAÉ   \n",
       "1  4890 2019-11-30   215.0                                          INTERNET   \n",
       "2  4892 2019-11-30  6500.0  DIVULGAÇÃO DE ATIVIDADES PARLAMENTAR COMUNICAÇÃO   \n",
       "\n",
       "                                  to  \\\n",
       "0  POSTO DE GASOLINA ALESSANDRA LTDA   \n",
       "1                          CLARO S/A   \n",
       "2         TATIANE FREIRE MARQUES MEI   \n",
       "\n",
       "                                    cost_center_name  \\\n",
       "0                                 Locação de imóveis   \n",
       "1                                  Acesso à internet   \n",
       "2  Divulgação de sua atividade parlamentar, respe...   \n",
       "\n",
       "                provider_name   provider_cpf_cnpj provider_type  \\\n",
       "0      CALIL DE MIRANDA CELEM      104.309.627-20           CPF   \n",
       "1                   CLARO S/A  40.432.544/0062-69          CNPJ   \n",
       "2  TATIANE FREIRE MARQUES MEI  34.369.407/0001-02          CNPJ   \n",
       "\n",
       "   entry_type_name  \n",
       "0           Cheque  \n",
       "1  Débito em conta  \n",
       "2    Transferência  "
      ]
     },
     "execution_count": 51,
     "metadata": {},
     "output_type": "execute_result"
    }
   ],
   "source": [
    "recipients.head(3)"
   ]
  },
  {
   "cell_type": "code",
   "execution_count": 52,
   "id": "therapeutic-gibson",
   "metadata": {},
   "outputs": [],
   "source": [
    "df_2019 = recipients[(recipients['date']> \"2019-01-01\") & (recipients['date']< \"2019-12-31\")]"
   ]
  },
  {
   "cell_type": "code",
   "execution_count": 53,
   "id": "certain-warner",
   "metadata": {},
   "outputs": [
    {
     "data": {
      "text/html": [
       "<div>\n",
       "<style scoped>\n",
       "    .dataframe tbody tr th:only-of-type {\n",
       "        vertical-align: middle;\n",
       "    }\n",
       "\n",
       "    .dataframe tbody tr th {\n",
       "        vertical-align: top;\n",
       "    }\n",
       "\n",
       "    .dataframe thead th {\n",
       "        text-align: right;\n",
       "    }\n",
       "</style>\n",
       "<table border=\"1\" class=\"dataframe\">\n",
       "  <thead>\n",
       "    <tr style=\"text-align: right;\">\n",
       "      <th></th>\n",
       "      <th>id</th>\n",
       "      <th>value</th>\n",
       "    </tr>\n",
       "    <tr>\n",
       "      <th>provider_name</th>\n",
       "      <th></th>\n",
       "      <th></th>\n",
       "    </tr>\n",
       "  </thead>\n",
       "  <tbody>\n",
       "    <tr>\n",
       "      <th>10X VIAGENS LTDA</th>\n",
       "      <td>4861</td>\n",
       "      <td>2685.80</td>\n",
       "    </tr>\n",
       "    <tr>\n",
       "      <th>52 Gráfica e Editora Ltda</th>\n",
       "      <td>849</td>\n",
       "      <td>5300.00</td>\n",
       "    </tr>\n",
       "    <tr>\n",
       "      <th>A PEIXOTO POSTO DE ABASTECIMENTO LTDA</th>\n",
       "      <td>3450</td>\n",
       "      <td>227.84</td>\n",
       "    </tr>\n",
       "    <tr>\n",
       "      <th>A. J. JORNALISMO LTDA</th>\n",
       "      <td>5710</td>\n",
       "      <td>4223.65</td>\n",
       "    </tr>\n",
       "    <tr>\n",
       "      <th>A. L. LAGOAS - COMERCIO DE AUTO PECAS E SERVICOS AUTOMOTIVOS LTDA</th>\n",
       "      <td>5127</td>\n",
       "      <td>225.00</td>\n",
       "    </tr>\n",
       "    <tr>\n",
       "      <th>...</th>\n",
       "      <td>...</td>\n",
       "      <td>...</td>\n",
       "    </tr>\n",
       "    <tr>\n",
       "      <th>posto lageense RJ</th>\n",
       "      <td>1667</td>\n",
       "      <td>195.00</td>\n",
       "    </tr>\n",
       "    <tr>\n",
       "      <th>rede energia ltda</th>\n",
       "      <td>5493</td>\n",
       "      <td>557.53</td>\n",
       "    </tr>\n",
       "    <tr>\n",
       "      <th>solimar moreira pinto</th>\n",
       "      <td>3143</td>\n",
       "      <td>460.00</td>\n",
       "    </tr>\n",
       "    <tr>\n",
       "      <th>suellen assumpção reis</th>\n",
       "      <td>3141</td>\n",
       "      <td>460.00</td>\n",
       "    </tr>\n",
       "    <tr>\n",
       "      <th>thiago ventura santos</th>\n",
       "      <td>19450</td>\n",
       "      <td>9600.00</td>\n",
       "    </tr>\n",
       "  </tbody>\n",
       "</table>\n",
       "<p>512 rows × 2 columns</p>\n",
       "</div>"
      ],
      "text/plain": [
       "                                                       id    value\n",
       "provider_name                                                     \n",
       "10X VIAGENS LTDA                                     4861  2685.80\n",
       "52 Gráfica e Editora Ltda                             849  5300.00\n",
       "A PEIXOTO POSTO DE ABASTECIMENTO LTDA                3450   227.84\n",
       "A. J. JORNALISMO LTDA                                5710  4223.65\n",
       "A. L. LAGOAS - COMERCIO DE AUTO PECAS E SERVICO...   5127   225.00\n",
       "...                                                   ...      ...\n",
       "posto lageense RJ                                    1667   195.00\n",
       "rede energia ltda                                    5493   557.53\n",
       "solimar moreira pinto                                3143   460.00\n",
       "suellen assumpção reis                               3141   460.00\n",
       "thiago ventura santos                               19450  9600.00\n",
       "\n",
       "[512 rows x 2 columns]"
      ]
     },
     "execution_count": 53,
     "metadata": {},
     "output_type": "execute_result"
    }
   ],
   "source": [
    "df_2019.groupby(['provider_name']).sum()"
   ]
  },
  {
   "cell_type": "code",
   "execution_count": null,
   "id": "prescription-offense",
   "metadata": {},
   "outputs": [],
   "source": []
  }
 ],
 "metadata": {
  "kernelspec": {
   "display_name": "Python 3",
   "language": "python",
   "name": "python3"
  },
  "language_info": {
   "codemirror_mode": {
    "name": "ipython",
    "version": 3
   },
   "file_extension": ".py",
   "mimetype": "text/x-python",
   "name": "python",
   "nbconvert_exporter": "python",
   "pygments_lexer": "ipython3",
   "version": "3.8.6"
  }
 },
 "nbformat": 4,
 "nbformat_minor": 5
}
